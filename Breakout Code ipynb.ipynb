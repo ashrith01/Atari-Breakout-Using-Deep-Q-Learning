{
  "nbformat": 4,
  "nbformat_minor": 0,
  "metadata": {
    "colab": {
      "name": "Copy of breakout.ipynb",
      "provenance": [],
      "machine_shape": "hm",
      "collapsed_sections": []
    },
    "kernelspec": {
      "name": "python3",
      "display_name": "Python 3"
    },
    "language_info": {
      "name": "python"
    },
    "accelerator": "GPU"
  },
  "cells": [
    {
      "cell_type": "code",
      "source": [
        "!pip install stable-baselines[mpi]==2.8.0\n",
        "#Download and install ROMs\n",
        "!gdown -q http://www.atarimania.com/roms/Roms.rar\n",
        "!pip install -q unrar\n",
        "!mkdir ./roms_atari\n",
        "!unrar x Roms.rar ./roms_atari > /dev/null 2>&1\n",
        "!python -m atari_py.import_roms ./roms_atari > /dev/null 2>&1"
      ],
      "metadata": {
        "id": "6eYUUeiV4muE"
      },
      "execution_count": null,
      "outputs": []
    },
    {
      "cell_type": "code",
      "source": [
        "from stable_baselines.common.atari_wrappers import make_atari, wrap_deepmind\n",
        "import numpy as np\n",
        "import tensorflow as tf\n",
        "from tensorflow import keras\n",
        "from tensorflow.keras import layers\n",
        "import matplotlib.pyplot as plt\n",
        "from google.colab import drive\n",
        "import gym.wrappers\n",
        "# Creating a folder in Google Disk\n",
        "drive.mount('/content/gdrive', force_remount=True)"
      ],
      "metadata": {
        "id": "BtWMXjUlFp1o"
      },
      "execution_count": null,
      "outputs": []
    },
    {
      "cell_type": "code",
      "source": [
        "env = make_atari(\"BreakoutNoFrameskip-v4\")\n",
        "obs = np.array(env.reset())\n",
        "print(obs.shape)\n",
        "plt.title(\"raw state\")\n",
        "plt.imshow(obs)"
      ],
      "metadata": {
        "id": "MqHNNCeaPmDP",
        "colab": {
          "base_uri": "https://localhost:8080/",
          "height": 316
        },
        "outputId": "e398db01-f149-48d4-95e0-99066940b6a7"
      },
      "execution_count": null,
      "outputs": [
        {
          "output_type": "stream",
          "name": "stdout",
          "text": [
            "(210, 160, 3)\n"
          ]
        },
        {
          "output_type": "execute_result",
          "data": {
            "text/plain": [
              "<matplotlib.image.AxesImage at 0x7f25151af6d0>"
            ]
          },
          "metadata": {},
          "execution_count": 5
        },
        {
          "output_type": "display_data",
          "data": {
            "text/plain": [
              "<Figure size 432x288 with 1 Axes>"
            ],
            "image/png": "[encoded data removed]"
          },
          "metadata": {
            "needs_background": "light"
          }
        }
      ]
    },
    {
      "cell_type": "code",
      "source": [
        "# Obseravtions\n",
        "env = make_atari(\"BreakoutNoFrameskip-v4\")\n",
        "env = wrap_deepmind(env, frame_stack=True, scale=True)\n",
        "obs = np.array(env.reset())\n",
        "\n",
        "print(obs.shape)\n",
        "plt.title(\"agent observation (4 frames)\")\n",
        "plt.imshow(obs.transpose([0, 2, 1]).reshape([env.observation_space.shape[0], -1]))"
      ],
      "metadata": {
        "id": "kohvZO8P8ldk",
        "colab": {
          "base_uri": "https://localhost:8080/",
          "height": 183
        },
        "outputId": "33931a69-95bb-4a1f-b634-12784445ca0b"
      },
      "execution_count": null,
      "outputs": [
        {
          "output_type": "stream",
          "name": "stdout",
          "text": [
            "(84, 84, 4)\n"
          ]
        },
        {
          "output_type": "execute_result",
          "data": {
            "text/plain": [
              "<matplotlib.image.AxesImage at 0x7f2514ca3c90>"
            ]
          },
          "metadata": {},
          "execution_count": 6
        },
        {
          "output_type": "display_data",
          "data": {
            "text/plain": [
              "<Figure size 432x288 with 1 Axes>"
            ],
            "image/png": "[encoded data removed]"
          },
          "metadata": {
            "needs_background": "light"
          }
        }
      ]
    },
    {
      "cell_type": "code",
      "source": [
        "# Actions\n",
        "print(env.action_space)\n",
        "print(env.get_action_meanings())"
      ],
      "metadata": {
        "id": "DbjYWelB8vhx",
        "colab": {
          "base_uri": "https://localhost:8080/"
        },
        "outputId": "c37e8ff5-0a56-4186-cfd4-03176831ec44"
      },
      "execution_count": null,
      "outputs": [
        {
          "output_type": "stream",
          "name": "stdout",
          "text": [
            "Discrete(4)\n",
            "['NOOP', 'FIRE', 'RIGHT', 'LEFT']\n"
          ]
        }
      ]
    },
    {
      "cell_type": "code",
      "source": [
        "# Rewards\n",
        "env.reset()\n",
        "obs, rew, done, info = env.step(1)\n",
        "rewards = [rew]\n",
        "while True:\n",
        "    obs, rew, done, info = env.step(env.action_space.sample())\n",
        "    rewards.append(rew)\n",
        "    if done:\n",
        "        break\n",
        "plt.plot(rewards)"
      ],
      "metadata": {
        "id": "Crfq4T7B83IY",
        "colab": {
          "base_uri": "https://localhost:8080/",
          "height": 282
        },
        "outputId": "59593a9f-525e-416b-e830-aaaaaad62489"
      },
      "execution_count": null,
      "outputs": [
        {
          "output_type": "execute_result",
          "data": {
            "text/plain": [
              "[<matplotlib.lines.Line2D at 0x7f2514acb410>]"
            ]
          },
          "metadata": {},
          "execution_count": 11
        },
        {
          "output_type": "display_data",
          "data": {
            "text/plain": [
              "<Figure size 432x288 with 1 Axes>"
            ],
            "image/png": "[encoded data removed]"
          },
          "metadata": {
            "needs_background": "light"
          }
        }
      ]
    },
    {
      "cell_type": "markdown",
      "source": [
        "Creating a model - Deep convolutional neural network"
      ],
      "metadata": {
        "id": "1BNbFexBPDGO"
      }
    },
    {
      "cell_type": "code",
      "source": [
        "num_actions = 4\n",
        "def create_q_model():\n",
        "    # Network defined by the Deepmind paper\n",
        "    inputs = layers.Input(shape=(84, 84, 4,))\n",
        "    layer1 = layers.Conv2D(32, 8, strides=4, activation=\"relu\")(inputs)\n",
        "    layer2 = layers.Conv2D(64, 4, strides=2, activation=\"relu\")(layer1)\n",
        "    layer3 = layers.Conv2D(64, 3, strides=1, activation=\"relu\")(layer2)\n",
        "    layer4 = layers.Flatten()(layer3)\n",
        "    layer5 = layers.Dense(512, activation=\"relu\")(layer4)\n",
        "    action = layers.Dense(num_actions, activation=\"linear\")(layer5)\n",
        "    return keras.Model(inputs=inputs, outputs=action)\n",
        "\n",
        "# First model makes the predictions for Q-values which are used to make a action.\n",
        "model = create_q_model()\n",
        "# Target model\n",
        "model_target = create_q_model()\n",
        "\n",
        "model.summary()"
      ],
      "metadata": {
        "id": "jcFKEpu2xHp7",
        "colab": {
          "base_uri": "https://localhost:8080/"
        },
        "outputId": "63bd2a53-5fcc-4460-ca12-858c4271b53e"
      },
      "execution_count": null,
      "outputs": [
        {
          "output_type": "stream",
          "name": "stdout",
          "text": [
            "Model: \"model\"\n",
            "_________________________________________________________________\n",
            " Layer (type)                Output Shape              Param #   \n",
            "=================================================================\n",
            " input_1 (InputLayer)        [(None, 84, 84, 4)]       0         \n",
            "                                                                 \n",
            " conv2d (Conv2D)             (None, 20, 20, 32)        8224      \n",
            "                                                                 \n",
            " conv2d_1 (Conv2D)           (None, 9, 9, 64)          32832     \n",
            "                                                                 \n",
            " conv2d_2 (Conv2D)           (None, 7, 7, 64)          36928     \n",
            "                                                                 \n",
            " flatten (Flatten)           (None, 3136)              0         \n",
            "                                                                 \n",
            " dense (Dense)               (None, 512)               1606144   \n",
            "                                                                 \n",
            " dense_1 (Dense)             (None, 4)                 2052      \n",
            "                                                                 \n",
            "=================================================================\n",
            "Total params: 1,686,180\n",
            "Trainable params: 1,686,180\n",
            "Non-trainable params: 0\n",
            "_________________________________________________________________\n"
          ]
        }
      ]
    },
    {
      "cell_type": "markdown",
      "source": [
        "Configuring the hyperparamaters and model training"
      ],
      "metadata": {
        "id": "_SI_xm4EQYug"
      }
    },
    {
      "cell_type": "code",
      "source": [
        "gamma = 0.99  # Discount factor for past rewards\n",
        "\n",
        "# Setting epsilon decay parameters\n",
        "epsilon = 1.0  \n",
        "epsilon_max_1 = 1.0 \n",
        "epsilon_min_1 = 0.2  \n",
        "epsilon_max_2 = epsilon_min_1  \n",
        "epsilon_min_2 = 0.1\n",
        "epsilon_max_3 = epsilon_min_2  \n",
        "epsilon_min_3 = 0.02\n",
        "\n",
        "epsilon_interval_1 = (epsilon_max_1 - epsilon_min_1)  \n",
        "epsilon_interval_2 = (epsilon_max_2 - epsilon_min_2)  \n",
        "epsilon_interval_3 = (epsilon_max_3 - epsilon_min_3)  \n",
        "\n",
        "# Number of frames for exploration\n",
        "epsilon_greedy_frames = 1000000.0\n",
        "\n",
        "# Number of frames to take random action and observe output\n",
        "epsilon_random_frames = 50000\n",
        "\n",
        "# Maximum Replay Buffer volume\n",
        "max_memory_length = 50000\n",
        "\n",
        "# Size of batch taken from replay buffer\n",
        "batch_size = 32  \n",
        "max_steps_per_episode = 10000\n",
        "\n",
        "# Train the model after 10 actions\n",
        "update_after_actions = 10\n",
        "\n",
        "# How often to update the target network\n",
        "update_target_network = 10000\n",
        "\n",
        "# In the Deepmind paper they use RMSProp however then Adam optimizer improves training time\n",
        "optimizer = keras.optimizers.Adam(lr=0.001, clipnorm=1.0)\n",
        "\n",
        "# Using huber loss for stability\n",
        "loss_function = keras.losses.Huber()"
      ],
      "metadata": {
        "id": "ofDVINpNtSSg",
        "colab": {
          "base_uri": "https://localhost:8080/"
        },
        "outputId": "bbaa5d17-9c95-4cc2-93aa-ef94ed2cc3a5"
      },
      "execution_count": null,
      "outputs": [
        {
          "output_type": "stream",
          "name": "stderr",
          "text": [
            "/usr/local/lib/python3.7/dist-packages/keras/optimizer_v2/adam.py:105: UserWarning: The `lr` argument is deprecated, use `learning_rate` instead.\n",
            "  super(Adam, self).__init__(name, **kwargs)\n"
          ]
        }
      ]
    },
    {
      "cell_type": "code",
      "source": [
        "# Experience replay buffers\n",
        "action_history = []\n",
        "state_history = []\n",
        "state_next_history = []\n",
        "rewards_history = []\n",
        "done_history = []\n",
        "\n",
        "episode_reward_history = []\n",
        "running_reward = 0\n",
        "episode_count = 0\n",
        "frame_count = 0\n",
        "\n",
        "while True:  # Run until solved\n",
        "    state = np.array(env.reset())\n",
        "    episode_reward = 0\n",
        "\n",
        "    for timestep in range(1, max_steps_per_episode):\n",
        "        \n",
        "        frame_count += 1\n",
        "\n",
        "        # Use epsilon-greedy for exploration\n",
        "        if frame_count < epsilon_random_frames or epsilon > np.random.rand(1)[0]:\n",
        "            # Take random action\n",
        "            action = np.random.choice(num_actions)\n",
        "        else:\n",
        "            # Predict action Q-values\n",
        "            # From environment state\n",
        "            state_tensor = tf.convert_to_tensor(state)\n",
        "            state_tensor = tf.expand_dims(state_tensor, 0)\n",
        "            action_probs = model(state_tensor, training=False)\n",
        "            # Take best action\n",
        "            action = tf.argmax(action_probs[0]).numpy()\n",
        "\n",
        "        # Decay probability of taking random action\n",
        "        if frame_count < epsilon_greedy_frames:\n",
        "          epsilon -= epsilon_interval_1 / epsilon_greedy_frames\n",
        "          epsilon = max(epsilon, epsilon_min_1)\n",
        "        \n",
        "        if frame_count > epsilon_greedy_frames and frame_count < 2 * epsilon_greedy_frames:\n",
        "          epsilon -= epsilon_interval_2 / epsilon_greedy_frames\n",
        "          epsilon = max(epsilon, epsilon_min_2)\n",
        "        \n",
        "        if frame_count > 2 * epsilon_greedy_frames:\n",
        "          epsilon -= epsilon_interval_3 / epsilon_greedy_frames\n",
        "          epsilon = max(epsilon, epsilon_min_3)\n",
        "          \n",
        "\n",
        "        # Apply the sampled action in our environment\n",
        "        state_next, reward, done, _ = env.step(action)\n",
        "        state_next = np.array(state_next)\n",
        "\n",
        "        episode_reward += reward\n",
        "\n",
        "        # Save actions and states in replay buffer\n",
        "        action_history.append(action)\n",
        "        state_history.append(state)\n",
        "        state_next_history.append(state_next)\n",
        "        done_history.append(done)\n",
        "        rewards_history.append(reward)\n",
        "        state = state_next\n",
        "\n",
        "        # Update every 20th frame and once batch size is over 32\n",
        "        if frame_count % update_after_actions == 0 and len(done_history) > batch_size:\n",
        "\n",
        "            # Get indices of samples for replay buffers\n",
        "            indices = np.random.choice(range(len(done_history)), size=batch_size)\n",
        "\n",
        "            # Using list comprehension to sample from replay buffer\n",
        "            state_sample = np.array([state_history[i] for i in indices])\n",
        "            state_next_sample = np.array([state_next_history[i] for i in indices])\n",
        "            rewards_sample = [rewards_history[i] for i in indices]\n",
        "            action_sample = [action_history[i] for i in indices]\n",
        "            done_sample = tf.convert_to_tensor(\n",
        "                [float(done_history[i]) for i in indices]\n",
        "            )\n",
        "\n",
        "            # Build the updated Q-values for the sampled future states\n",
        "            # Use the target model for stability\n",
        "            future_rewards = model_target.predict(state_next_sample)\n",
        "            # Q value = reward + discount factor * expected future reward\n",
        "            updated_q_values = rewards_sample + gamma * tf.reduce_max(\n",
        "                future_rewards, axis=1\n",
        "            )\n",
        "\n",
        "            # If final frame set the last value to -1\n",
        "            updated_q_values = updated_q_values * (1 - done_sample) - done_sample\n",
        "\n",
        "            # Create a mask so we only calculate loss on the updated Q-values\n",
        "            masks = tf.one_hot(action_sample, num_actions)\n",
        "\n",
        "            with tf.GradientTape() as tape:\n",
        "                # Train the model on the states and updated Q-values\n",
        "                q_values = model(state_sample)\n",
        "\n",
        "                # Apply the masks to the Q-values to get the Q-value for action taken\n",
        "                q_action = tf.reduce_sum(tf.multiply(q_values, masks), axis=1)\n",
        "                # Calculate loss between new Q-value and old Q-value\n",
        "                loss = loss_function(updated_q_values, q_action)\n",
        "\n",
        "            # Backpropagation\n",
        "            grads = tape.gradient(loss, model.trainable_variables)\n",
        "            optimizer.apply_gradients(zip(grads, model.trainable_variables))\n",
        "\n",
        "        if frame_count % update_target_network == 0:\n",
        "            # update the the target network with new weights\n",
        "            model_target.set_weights(model.get_weights())\n",
        "            # Log details\n",
        "            template = \"running reward: {:.2f} at episode {}, frame count {}, epsilon {:.3f}, loss {:.5f}\"\n",
        "            print(template.format(running_reward, episode_count, frame_count, epsilon, loss))\n",
        "\n",
        "        # Limit the state and reward history\n",
        "        if len(rewards_history) > max_memory_length:\n",
        "            del rewards_history[:1]\n",
        "            del state_history[:1]\n",
        "            del state_next_history[:1]\n",
        "            del action_history[:1]\n",
        "            del done_history[:1]\n",
        "\n",
        "        if done:\n",
        "            break\n",
        "\n",
        "    # Update running reward to check condition for solving\n",
        "    episode_reward_history.append(episode_reward)\n",
        "    if len(episode_reward_history) > 100:\n",
        "        del episode_reward_history[:1]\n",
        "    running_reward = np.mean(episode_reward_history)\n",
        "\n",
        "    episode_count += 1\n",
        "\n",
        "    if running_reward > 2:  # Condition to consider the task solved\n",
        "        print(\"Solved at episode {}!\".format(episode_count))\n",
        "        break"
      ],
      "metadata": {
        "id": "Lp8r0wRTtuzj",
        "colab": {
          "base_uri": "https://localhost:8080/"
        },
        "outputId": "d6b07cda-1541-46ec-8dc8-4771c69e7316"
      },
      "execution_count": null,
      "outputs": [
        {
          "output_type": "stream",
          "name": "stdout",
          "text": [
            "running reward: 0.15 at episode 317, frame count 10000, epsilon 0.992, loss 0.03142\n",
            "running reward: 0.35 at episode 599, frame count 20000, epsilon 0.984, loss 0.00440\n",
            "running reward: 0.27 at episode 902, frame count 30000, epsilon 0.976, loss 0.01070\n",
            "running reward: 0.23 at episode 1234, frame count 40000, epsilon 0.968, loss 0.00937\n",
            "running reward: 0.17 at episode 1515, frame count 50000, epsilon 0.960, loss 0.00132\n",
            "running reward: 0.32 at episode 1813, frame count 60000, epsilon 0.952, loss 0.00838\n",
            "running reward: 0.21 at episode 2102, frame count 70000, epsilon 0.944, loss 0.00306\n",
            "running reward: 0.26 at episode 2426, frame count 80000, epsilon 0.936, loss 0.00428\n",
            "running reward: 0.18 at episode 2745, frame count 90000, epsilon 0.928, loss 0.00350\n",
            "running reward: 0.33 at episode 3054, frame count 100000, epsilon 0.920, loss 0.00265\n",
            "running reward: 0.26 at episode 3362, frame count 110000, epsilon 0.912, loss 0.00264\n",
            "running reward: 0.41 at episode 3669, frame count 120000, epsilon 0.904, loss 0.00242\n",
            "running reward: 0.26 at episode 3964, frame count 130000, epsilon 0.896, loss 0.00267\n",
            "running reward: 0.31 at episode 4250, frame count 140000, epsilon 0.888, loss 0.00241\n",
            "running reward: 0.34 at episode 4526, frame count 150000, epsilon 0.880, loss 0.01106\n",
            "running reward: 0.38 at episode 4780, frame count 160000, epsilon 0.872, loss 0.00572\n",
            "running reward: 0.38 at episode 5054, frame count 170000, epsilon 0.864, loss 0.00667\n",
            "running reward: 0.35 at episode 5339, frame count 180000, epsilon 0.856, loss 0.00107\n",
            "running reward: 0.28 at episode 5608, frame count 190000, epsilon 0.848, loss 0.00444\n",
            "running reward: 0.52 at episode 5840, frame count 200000, epsilon 0.840, loss 0.00319\n",
            "running reward: 0.55 at episode 6073, frame count 210000, epsilon 0.832, loss 0.00695\n",
            "running reward: 0.52 at episode 6300, frame count 220000, epsilon 0.824, loss 0.00357\n",
            "running reward: 0.53 at episode 6529, frame count 230000, epsilon 0.816, loss 0.00859\n",
            "running reward: 0.57 at episode 6745, frame count 240000, epsilon 0.808, loss 0.01126\n",
            "running reward: 0.57 at episode 6962, frame count 250000, epsilon 0.800, loss 0.00490\n",
            "running reward: 0.61 at episode 7161, frame count 260000, epsilon 0.792, loss 0.01269\n",
            "running reward: 0.69 at episode 7363, frame count 270000, epsilon 0.784, loss 0.01593\n",
            "running reward: 0.79 at episode 7558, frame count 280000, epsilon 0.776, loss 0.01111\n",
            "running reward: 0.78 at episode 7748, frame count 290000, epsilon 0.768, loss 0.00794\n",
            "running reward: 0.59 at episode 7955, frame count 300000, epsilon 0.760, loss 0.07160\n",
            "running reward: 0.77 at episode 8152, frame count 310000, epsilon 0.752, loss 0.02878\n",
            "running reward: 0.71 at episode 8348, frame count 320000, epsilon 0.744, loss 0.02718\n",
            "running reward: 0.65 at episode 8535, frame count 330000, epsilon 0.736, loss 0.06447\n",
            "running reward: 1.12 at episode 8697, frame count 340000, epsilon 0.728, loss 0.01219\n",
            "running reward: 0.83 at episode 8879, frame count 350000, epsilon 0.720, loss 0.04803\n",
            "running reward: 0.92 at episode 9049, frame count 360000, epsilon 0.712, loss 0.01397\n",
            "running reward: 0.67 at episode 9244, frame count 370000, epsilon 0.704, loss 0.03803\n",
            "running reward: 0.71 at episode 9433, frame count 380000, epsilon 0.696, loss 0.01093\n",
            "running reward: 0.88 at episode 9603, frame count 390000, epsilon 0.688, loss 0.07334\n",
            "running reward: 0.99 at episode 9770, frame count 400000, epsilon 0.680, loss 0.01038\n",
            "running reward: 1.15 at episode 9925, frame count 410000, epsilon 0.672, loss 0.01483\n",
            "running reward: 0.86 at episode 10096, frame count 420000, epsilon 0.664, loss 0.01350\n",
            "running reward: 0.86 at episode 10273, frame count 430000, epsilon 0.656, loss 0.07619\n",
            "running reward: 0.90 at episode 10446, frame count 440000, epsilon 0.648, loss 0.01953\n",
            "running reward: 1.08 at episode 10603, frame count 450000, epsilon 0.640, loss 0.00934\n",
            "running reward: 1.27 at episode 10758, frame count 460000, epsilon 0.632, loss 0.00395\n",
            "running reward: 1.08 at episode 10907, frame count 470000, epsilon 0.624, loss 0.00913\n",
            "running reward: 0.92 at episode 11072, frame count 480000, epsilon 0.616, loss 0.00386\n",
            "running reward: 1.35 at episode 11210, frame count 490000, epsilon 0.608, loss 0.00635\n",
            "running reward: 0.96 at episode 11369, frame count 500000, epsilon 0.600, loss 0.00564\n",
            "running reward: 1.06 at episode 11523, frame count 510000, epsilon 0.592, loss 0.00578\n",
            "running reward: 1.07 at episode 11675, frame count 520000, epsilon 0.584, loss 0.00953\n",
            "running reward: 1.02 at episode 11832, frame count 530000, epsilon 0.576, loss 0.00417\n",
            "running reward: 1.24 at episode 11978, frame count 540000, epsilon 0.568, loss 0.00408\n",
            "running reward: 1.34 at episode 12117, frame count 550000, epsilon 0.560, loss 0.00613\n",
            "running reward: 1.24 at episode 12271, frame count 560000, epsilon 0.552, loss 0.00613\n",
            "running reward: 1.36 at episode 12409, frame count 570000, epsilon 0.544, loss 0.03495\n",
            "running reward: 1.40 at episode 12538, frame count 580000, epsilon 0.536, loss 0.00973\n",
            "running reward: 1.36 at episode 12675, frame count 590000, epsilon 0.528, loss 0.01350\n",
            "running reward: 1.43 at episode 12815, frame count 600000, epsilon 0.520, loss 0.01190\n",
            "running reward: 1.35 at episode 12955, frame count 610000, epsilon 0.512, loss 0.01709\n",
            "running reward: 1.62 at episode 13073, frame count 620000, epsilon 0.504, loss 0.02052\n",
            "running reward: 1.46 at episode 13196, frame count 630000, epsilon 0.496, loss 0.00411\n",
            "running reward: 1.43 at episode 13325, frame count 640000, epsilon 0.488, loss 0.02581\n",
            "running reward: 1.71 at episode 13439, frame count 650000, epsilon 0.480, loss 0.00976\n",
            "running reward: 1.55 at episode 13555, frame count 660000, epsilon 0.472, loss 0.00707\n",
            "running reward: 1.92 at episode 13666, frame count 670000, epsilon 0.464, loss 0.01623\n",
            "Solved at episode 13688!\n"
          ]
        }
      ]
    },
    {
      "cell_type": "markdown",
      "source": [
        "Save and load the model"
      ],
      "metadata": {
        "id": "1YJLaqllQpeu"
      }
    },
    {
      "cell_type": "code",
      "source": [
        "# Saving the model\n",
        "model_name = 'breakout_model_1'\n",
        "path = F\"/content/gdrive/MyDrive/{model_name}\" \n",
        "model.save(path)"
      ],
      "metadata": {
        "id": "lgWGkHa7CKnT"
      },
      "execution_count": null,
      "outputs": []
    },
    {
      "cell_type": "code",
      "source": [
        "# Loading the model\n",
        "model_name = 'breakout_model_1'\n",
        "path = F\"/content/gdrive/MyDrive/{model_name}\" \n",
        "model = tf.keras.models.load_model(path)"
      ],
      "metadata": {
        "id": "ek_CaafVKS8k"
      },
      "execution_count": null,
      "outputs": []
    },
    {
      "cell_type": "markdown",
      "source": [
        "Making videos of our agent playing Breakout"
      ],
      "metadata": {
        "id": "PktIcDkQRLa_"
      }
    },
    {
      "cell_type": "code",
      "source": [
        "def make_env():\n",
        "  env = make_atari(\"BreakoutNoFrameskip-v4\")\n",
        "  env = wrap_deepmind(env, frame_stack=True, scale=True)\n",
        "  return env"
      ],
      "metadata": {
        "id": "eYKgdXeSZinA"
      },
      "execution_count": null,
      "outputs": []
    },
    {
      "cell_type": "code",
      "source": [
        "env = make_env()\n",
        "env = gym.wrappers.Monitor(env, \"./vid1\", force=True)\n",
        "\n",
        "observation = env.reset()\n",
        "info = 0\n",
        "reward_window = []\n",
        "reward_signal_history = []\n",
        "epsilon_history = []\n",
        "\n",
        "states = [np.array(observation)]\n",
        "\n",
        "hits = []\n",
        "bltd = 108 #total bricks to destroy\n",
        "\n",
        "for i_episode in range(1):\n",
        "    reward_window=[] \n",
        "    epsilon = 0  \n",
        "    for t in range(4000):\n",
        "        \n",
        "        if epsilon > np.random.rand(1)[0]:\n",
        "          action = np.random.choice(num_actions)\n",
        "        else:\n",
        "          state_tensor = tf.convert_to_tensor(observation)\n",
        "          state_tensor = tf.expand_dims(state_tensor, 0)\n",
        "          action_probs = model(state_tensor, training=False)\n",
        "          action = tf.argmax(action_probs[0]).numpy()\n",
        "        \n",
        "        states.append(np.array(observation))\n",
        "\n",
        "        observation, reward, done, info = env.step(action)\n",
        "        hits.append(reward)\n",
        "        reward_window.append(reward)\n",
        "        if len(reward_window) > 200:\n",
        "          del reward_window[:1] \n",
        "        if len(reward_window) == 200 and np.sum(reward_window) == 0:\n",
        "          epsilon = 0.01\n",
        "        else:\n",
        "          epsilon = 0.0001\n",
        "\n",
        "        epsilon_history.append(epsilon)\n",
        "        reward_signal_history.append(reward)\n",
        "\n",
        "        \n",
        "        if done:\n",
        "            print(reward)\n",
        "            print(\"Lost one life after {} timesteps\".format(t+1))\n",
        "            print(info)\n",
        "            # Plot epsilon and reward signal\n",
        "            fig,ax=plt.subplots(figsize=(20,3))\n",
        "            #plt.clf()\n",
        "            ax.plot(epsilon_history, color=\"red\")\n",
        "            ax.set_ylabel(\"epsilon\",color=\"red\",fontsize=14)\n",
        "            ax2=ax.twinx()\n",
        "            ax2.plot(reward_signal_history,color=\"blue\")\n",
        "            ax2.set_ylabel(\"reward_signal\",color=\"blue\",fontsize=14)\n",
        "            plt.show()\n",
        "\n",
        "            epsilon_history = []\n",
        "            reward_signal_history = []\n",
        "            \n",
        "            bltd = bltd-np.sum(hits)\n",
        "            hits = []\n",
        "            print(\"Bricks left to destroy \", bltd)\n",
        "            if info['ale.lives'] == 0:\n",
        "              break\n",
        "\n",
        "            env.reset()\n",
        "\n",
        "env.close()\n",
        "\n",
        "print(\"No of states : \", len(states))"
      ],
      "metadata": {
        "id": "JQeWGLBsZxCp",
        "colab": {
          "base_uri": "https://localhost:8080/",
          "height": 1000
        },
        "outputId": "7e854cde-484b-41e2-cc3a-6d007c9a4a77"
      },
      "execution_count": null,
      "outputs": [
        {
          "output_type": "stream",
          "name": "stdout",
          "text": [
            "0.0\n",
            "Lost one life after 84 timesteps\n",
            "{'ale.lives': 4}\n"
          ]
        },
        {
          "output_type": "display_data",
          "data": {
            "text/plain": [
              "<Figure size 1440x216 with 2 Axes>"
            ],
            "image/png": "[encoded data removed]"
          },
          "metadata": {
            "needs_background": "light"
          }
        },
        {
          "output_type": "stream",
          "name": "stdout",
          "text": [
            "Bricks left to destroy  106.0\n",
            "0.0\n",
            "Lost one life after 238 timesteps\n",
            "{'ale.lives': 3}\n"
          ]
        },
        {
          "output_type": "display_data",
          "data": {
            "text/plain": [
              "<Figure size 1440x216 with 2 Axes>"
            ],
            "image/png": "[encoded data removed]"
          },
          "metadata": {
            "needs_background": "light"
          }
        },
        {
          "output_type": "stream",
          "name": "stdout",
          "text": [
            "Bricks left to destroy  102.0\n",
            "0.0\n",
            "Lost one life after 551 timesteps\n",
            "{'ale.lives': 2}\n"
          ]
        },
        {
          "output_type": "display_data",
          "data": {
            "text/plain": [
              "<Figure size 1440x216 with 2 Axes>"
            ],
            "image/png": "[encoded data removed]"
          },
          "metadata": {
            "needs_background": "light"
          }
        },
        {
          "output_type": "stream",
          "name": "stdout",
          "text": [
            "Bricks left to destroy  93.0\n",
            "0.0\n",
            "Lost one life after 735 timesteps\n",
            "{'ale.lives': 1}\n"
          ]
        },
        {
          "output_type": "display_data",
          "data": {
            "text/plain": [
              "<Figure size 1440x216 with 2 Axes>"
            ],
            "image/png": "[encoded data removed]"
          },
          "metadata": {
            "needs_background": "light"
          }
        },
        {
          "output_type": "stream",
          "name": "stdout",
          "text": [
            "Bricks left to destroy  88.0\n",
            "0.0\n",
            "Lost one life after 779 timesteps\n",
            "{'ale.lives': 0}\n"
          ]
        },
        {
          "output_type": "display_data",
          "data": {
            "text/plain": [
              "<Figure size 1440x216 with 2 Axes>"
            ],
            "image/png": "[encoded data removed]"
          },
          "metadata": {
            "needs_background": "light"
          }
        },
        {
          "output_type": "stream",
          "name": "stdout",
          "text": [
            "Bricks left to destroy  87.0\n",
            "No of states :  780\n"
          ]
        }
      ]
    },
    {
      "cell_type": "code",
      "source": [
        "import matplotlib.cm as cm\n",
        "import matplotlib.animation as animation\n",
        "import matplotlib.pyplot  as plt\n",
        "\n",
        "img = [] # some array of images\n",
        "frames = [] # for storing the generated images\n",
        "fig = plt.figure()\n",
        "for i in range(len(states)):\n",
        "    frames.append([plt.imshow(states[i], cmap=cm.Greys_r,animated=True)])\n",
        "\n",
        "ani = animation.ArtistAnimation(fig, frames, interval=50, blit=True,\n",
        "                                repeat_delay=1000)\n",
        "ani.save('./gameplay.mp4')"
      ],
      "metadata": {
        "id": "pdBmeDrSM7OI"
      },
      "execution_count": null,
      "outputs": []
    }
  ]
}